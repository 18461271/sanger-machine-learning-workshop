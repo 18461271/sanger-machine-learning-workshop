{
 "cells": [
  {
   "cell_type": "markdown",
   "metadata": {},
   "source": [
    "# Unsupervised Learning"
   ]
  },
  {
   "cell_type": "markdown",
   "metadata": {},
   "source": [
    "## Introduction"
   ]
  },
  {
   "cell_type": "markdown",
   "metadata": {},
   "source": [
    "*Unsupervised learning* refers to techniques where we do not give the algorithm a target output (e.g. a set of expected classifications of the data). Instead, the algorithm must interpret the data and draw some kind of conclusion entirely on its own, without any supervision from us.\n",
    "\n",
    "Unsupervised learning is particularly attractive in the context of monitoring because it has the potential to notice and determine trends that would go unrecognised by a human operator. Example applications include:\n",
    "* Time series anomaly detection\n",
    "* Detection of abnormal events in logs\n",
    "* Predictive models (e.g. Google's learned PUE model https://docs.google.com/a/google.com/viewer?url=www.google.com/about/datacenters/efficiency/internal/assets/machine-learning-applicationsfor-datacenter-optimization-finalv2.pdf) (TODO: is this supervised or unsupervised?\n",
    "\n",
    "For this workshop, we'll be focusing on a simple example of time series anomaly detection. Our algorithm will be based on an approach that attempts to reconstruct a waveform using the wave patterns that it has seen before. If the reconstruction is poor, then the waveform is likely of a form that the algorithm hasn't seen before, and therefore is anomalous. TODO: is this really unsupervised? We're still giving it some idea of what's \"normal\", right?\n",
    "\n",
    "The example is based on Chapter 4, *More Complex, Adaptive Models* from [Practical Machine Learning](https://www.safaribooksonline.com/library/view/practical-machine-learning/9781491914151/ch04.html)."
   ]
  },
  {
   "cell_type": "markdown",
   "metadata": {},
   "source": [
    "## Anomaly Detection\n",
    "\n",
    "In the context of time series data, we can define an \"anomaly\" as simply being some pattern in the data that we haven't seen before.\n",
    "\n",
    "In some cases, we may be able to detect such novel patterns by merely looking for any values beyond a certain threshold:\n",
    "\n",
    "TODO add image\n",
    "\n",
    "In other cases, though, the structure of the waveform may prevent detection of anomalies using this method:\n",
    "\n",
    "And more subtle errors - a change in the shape of a periodic waveform, for examples - will be simply impossible to pick up with such a method:\n",
    "\n",
    "TODO add image\n",
    "\n",
    "What we want more generally is a method that can learn what constitutes a \"normal\" waveform not just in terms of its instantaneous value in terms of its *shape*.\n",
    "\n",
    "### Clustering\n",
    "\n",
    "Let us take a step back from our problem and have a look at a simpler example to demonstrate how we might go about determining what constitutes a sense of what is \"normal\".\n",
    "\n",
    "Suppose we are manufacturing power supplies. Our power supplies use capacitors from two different manufacturers. During the QA phase, for each  power supply sample we measure two variables: power efficiency and voltage ripple. We could plot a graph of one variable against another to get a sense of the distribution of the data:\n",
    "\n",
    "TODO add image with two clusters\n",
    "\n",
    "These two variables, of course, have absolute limits, as shown by the box on the graph. Within these limits, however, we find that the data tends to form two groups, or *clusters*, depending on which type of capacitor is used.\n",
    "\n",
    "Suppose the next power supply that comes off the assembly line meets the *absolute* requirements (falls within the box on the graph), but falls a way outside either group:\n",
    "\n",
    "TODO image\n",
    "\n",
    "We detect this anomaly by the fact that it lies outside of either of these clusters. Here our clusters were defined in a two-dimensional space defined by two variables (or two *features*, in machine learning parlance); but the approach is generalisable to three-dimensional space, defined by three features:\n",
    "\n",
    "TODO image\n",
    "\n",
    "Or an *n*-dimensional space, defined by *n* features. (The general case is a little harder to visualise - so just stick with the three-dimensional case and pretend there are more dimensions.)\n",
    "\n",
    "Machine learning algorithms exist to identify such clusters automatically. The particular method we'll be using is called the *k-means clustering* algorithm.\n",
    "\n",
    "### Waveform Space\n",
    "\n",
    "The first step in applying such a technique to waveforms would be defining the space in which clusters will be formed. We can split the waveform into chunks to give us separate \"samples\", but what will our *features* be - what are the variables that will define the *n*-dimensional space?\n",
    "\n",
    "We could go with measurements of each chunk such as maximum, minimum and spread. But since our technique is generalisable to any number of dimensions, we can do something a bit more clever: we can take each element of the chunk as a separate dimension. For a chunk containing 32 instantaneous values, we define a 32-dimensional space in which to form our clusters.\n",
    "\n",
    "### Waveform Anomaly Detection\n",
    "\n",
    "In the example of the power supplies, we detected anomalous samples based on the distance from clusters. For our waveform example, we're going to do something a little bit different, which lends itself more easily to visualisation.\n",
    "\n",
    "Consider the clusters in *n*-dimensional space again. Similar chunks will cluster together. The middle of each cluster (the *centroid*) will then provide some measure of the prototypical waveform pattern that all those chunks are specific instances of. (If this is difficult to visualise, the other way to consider it is that the centroid is simply the mean of all waveform samples in that cluster.)\n",
    "\n",
    "Note that the centroid, being a point in the waveform space, is itself a waveform. Thus, the cluster centroids provide us with a set of \"normal\" waveform chunks.\n",
    "\n",
    "Suppose we then try to reconstruct a novel set of data using our standard \"normal\" chunks. If the data is similar in shape to what has come before it, we will be able to manage to good reconstruction. However, if the data contains some abnormal shape, we will not be able to reconstruct it using our normal shape library, and we will get a reconstruction error. This error will indicate an anomaly!\n",
    "\n",
    "In summary, our algorithm will be:\n",
    "\n",
    "**Training**:\n",
    "\n",
    "* Split training waveform data into chunks of *n* samples\n",
    "* Form a space in *n* dimensions, with each chunk representing one point\n",
    "* Cluster the chunk points, and determine the centres or *centroids* of the clusters\n",
    "* Cluster centroids provide library of \"normal\" waveform shapes\n",
    "\n",
    "**Testing**:\n",
    "\n",
    "* Try to reconstruct waveform data to be testing using cluster centroids obtained from testing data set\n",
    "* Poor reconstruction error on any individual chunk indicates anomalous shape"
   ]
  },
  {
   "cell_type": "markdown",
   "metadata": {},
   "source": [
    "## Our Data Set"
   ]
  },
  {
   "cell_type": "markdown",
   "metadata": {},
   "source": [
    "To explore anomaly detection, we'll be using an EKG data set from [PhysioNet](http://physionet.org/physiobank/database/apnea-ecg/). Since this data has a very regular waveform, it provides a good vehicle for us to explore the algorithms without getting bogged down in the complications that come with real-world data.\n",
    "\n",
    "The data is supplied in the `a02.dat` file. A Python module `ekg_data.py` is provided to read the data."
   ]
  },
  {
   "cell_type": "markdown",
   "metadata": {},
   "source": [
    "## Exploring the Data"
   ]
  },
  {
   "cell_type": "markdown",
   "metadata": {},
   "source": [
    "Let's get started by importing the EKG data module and examining what the data looks like:"
   ]
  },
  {
   "cell_type": "code",
   "execution_count": 4,
   "metadata": {
    "collapsed": false
   },
   "outputs": [
    {
     "name": "stdout",
     "output_type": "stream",
     "text": [
      "(3182000,)\n"
     ]
    }
   ],
   "source": [
    "from __future__ import print_function\n",
    "import ekg_data\n",
    "\n",
    "ekg_filename = 'a02.dat'\n",
    "ekg_data = ekg_data.read_ekg_data(ekg_filename)\n",
    "print(ekg_data.shape)"
   ]
  },
  {
   "cell_type": "markdown",
   "metadata": {},
   "source": [
    "The data is provided as a one-dimensional list (or *vector*) of floating-point samples:"
   ]
  },
  {
   "cell_type": "code",
   "execution_count": 9,
   "metadata": {
    "collapsed": false
   },
   "outputs": [
    {
     "name": "stdout",
     "output_type": "stream",
     "text": [
      "ekg_data[0]:\t -4.0\n",
      "ekg_data[1]:\t -4.0\n",
      "ekg_data.min:\t -572.0\n",
      "ekg_data.max:\t 580.0\n"
     ]
    }
   ],
   "source": [
    "print(\"ekg_data[0]:\\t\", ekg_data[0])\n",
    "print(\"ekg_data[1]:\\t\", ekg_data[1])\n",
    "print(\"ekg_data.min:\\t\", ekg_data.min())\n",
    "print(\"ekg_data.max:\\t\", ekg_data.max())"
   ]
  },
  {
   "cell_type": "markdown",
   "metadata": {},
   "source": [
    "We can also plot a number of samples from the data to get a feel for the waveform:"
   ]
  },
  {
   "cell_type": "code",
   "execution_count": 14,
   "metadata": {
    "collapsed": false
   },
   "outputs": [
    {
     "data": {
      "image/png": "[encoded data removed]",
      "text/plain": [
       "<matplotlib.figure.Figure at 0x112e112d0>"
      ]
     },
     "metadata": {},
     "output_type": "display_data"
    }
   ],
   "source": [
    "# IPython 'magic' command to set the matplotlib backend to display\n",
    "# in the notebook\n",
    "%matplotlib inline\n",
    "\n",
    "import matplotlib.pyplot as plt\n",
    "\n",
    "n_samples_to_plot = 300\n",
    "plt.plot(ekg_data[0:n_samples_to_plot])\n",
    "plt.show()\n",
    "# TODO: add axis labels"
   ]
  },
  {
   "cell_type": "markdown",
   "metadata": {},
   "source": [
    "## Windowing"
   ]
  },
  {
   "cell_type": "markdown",
   "metadata": {},
   "source": [
    "## Clustering"
   ]
  },
  {
   "cell_type": "markdown",
   "metadata": {},
   "source": [
    "## Reconstruction from Clusters"
   ]
  },
  {
   "cell_type": "markdown",
   "metadata": {},
   "source": [
    "## Anomaly Detection"
   ]
  },
  {
   "cell_type": "markdown",
   "metadata": {},
   "source": [
    "https://class.coursera.org/ml-003/lecture/78 for k-means"
   ]
  }
 ],
 "metadata": {
  "kernelspec": {
   "display_name": "Python 2",
   "language": "python",
   "name": "python2"
  },
  "language_info": {
   "codemirror_mode": {
    "name": "ipython",
    "version": 2
   },
   "file_extension": ".py",
   "mimetype": "text/x-python",
   "name": "python",
   "nbconvert_exporter": "python",
   "pygments_lexer": "ipython2",
   "version": "2.7.9"
  }
 },
 "nbformat": 4,
 "nbformat_minor": 0
}
